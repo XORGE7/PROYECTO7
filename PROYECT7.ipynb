{
 "cells": [
  {
   "cell_type": "markdown",
   "metadata": {},
   "source": [
    "# Hola Jorge! <a class=\"tocSkip\"></a>\n",
    "\n",
    "Mi nombre es Oscar Flores y tengo el gusto de revisar tu proyecto. Si tienes algún comentario que quieras agregar en tus respuestas te puedes referir a mi como Oscar, no hay problema que me trates de tú.\n",
    "\n",
    "Si veo un error en la primera revisión solamente lo señalaré y dejaré que tú encuentres de qué se trata y cómo arreglarlo. Debo prepararte para que te desempeñes como especialista en Data, en un trabajo real, el responsable a cargo tuyo hará lo mismo. Si aún tienes dificultades para resolver esta tarea, te daré indicaciones más precisas en una siguiente iteración.\n",
    "\n",
    "Te dejaré mis comentarios más abajo - **por favor, no los muevas, modifiques o borres**\n",
    "\n",
    "Comenzaré mis comentarios con un resumen de los puntos que están bien, aquellos que debes corregir y aquellos que puedes mejorar. Luego deberás revisar todo el notebook para leer mis comentarios, los cuales estarán en rectángulos de color verde, amarillo o rojo como siguen:\n",
    "\n",
    "<div class=\"alert alert-block alert-success\">\n",
    "<b>Comentario de Reviewer</b> <a class=\"tocSkip\"></a>\n",
    "    \n",
    "Muy bien! Toda la respuesta fue lograda satisfactoriamente.\n",
    "</div>\n",
    "\n",
    "<div class=\"alert alert-block alert-warning\">\n",
    "<b>Comentario de Reviewer</b> <a class=\"tocSkip\"></a>\n",
    "\n",
    "Existen detalles a mejorar. Existen recomendaciones.\n",
    "</div>\n",
    "\n",
    "<div class=\"alert alert-block alert-danger\">\n",
    "\n",
    "<b>Comentario de Reviewer</b> <a class=\"tocSkip\"></a>\n",
    "\n",
    "Se necesitan correcciones en el bloque. El trabajo no puede ser aceptado con comentarios en rojo sin solucionar.\n",
    "</div>\n",
    "\n",
    "Cualquier comentario que quieras agregar entre iteraciones de revisión lo puedes hacer de la siguiente manera:\n",
    "\n",
    "<div class=\"alert alert-block alert-info\">\n",
    "<b>Respuesta estudiante.</b> <a class=\"tocSkip\"></a>\n",
    "</div>\n"
   ]
  },
  {
   "cell_type": "markdown",
   "metadata": {},
   "source": [
    "## Resumen de la revisión 1 <a class=\"tocSkip\"></a>"
   ]
  },
  {
   "cell_type": "markdown",
   "metadata": {},
   "source": [
    "<div class=\"alert alert-block alert-danger\">\n",
    "<b>Comentario de Reviewer</b> <a class=\"tocSkip\"></a>\n",
    "\n",
    "Buen trabajo Jorge, has completado correctamente casi todo el notebook, tan solo falta complementar la parte de los test de hipótesis con un par de comentarios que realicé en esa parte, por favor revísalos.\n",
    "    \n",
    "Saludos!    \n",
    "\n",
    "</div>"
   ]
  },
  {
   "cell_type": "markdown",
   "metadata": {},
   "source": [
    "## Resumen de la revisión 2 <a class=\"tocSkip\"></a>"
   ]
  },
  {
   "cell_type": "markdown",
   "metadata": {},
   "source": [
    "<div class=\"alert alert-block alert-danger\">\n",
    "<b>Comentario de Reviewer v2</b> <a class=\"tocSkip\"></a>\n",
    "\n",
    "Buen trabajo Jorge, has completado correctamente casi todo el notebook, tan solo falta complementar la parte de los test de hipótesis con un par de comentarios que realicé en esa parte, por favor revísalos.\n",
    "    \n",
    "Saludos!    \n",
    "\n",
    "</div>"
   ]
  },
  {
   "cell_type": "markdown",
   "metadata": {},
   "source": [
    "----"
   ]
  },
  {
   "cell_type": "markdown",
   "metadata": {},
   "source": [
    "# Transporte en Chicago:"
   ]
  },
  {
   "cell_type": "markdown",
   "metadata": {},
   "source": [
    "## Análisis para la inmersión de Zuber en el mercado."
   ]
  },
  {
   "cell_type": "markdown",
   "metadata": {},
   "source": [
    "En el presente análisis se trabajará con cuatro tablas extraídas de páginas web externas y se formarán tres bases de datos a partir de dicha información; esto para encontrar patrones y permitir a Zuber, una nueva empresa de viajes compartidos, los datos necesarios para lanzar su servicio en Chicago.\n",
    "\n",
    "En el análisis se podrán encontrar las preferencias de los pasajeros y el impacto de los factores externos en los viajes.\n"
   ]
  },
  {
   "cell_type": "markdown",
   "metadata": {},
   "source": [
    "### Importar las librerias."
   ]
  },
  {
   "cell_type": "code",
   "execution_count": 83,
   "metadata": {},
   "outputs": [],
   "source": [
    "import pandas as pd\n",
    "from scipy import stats as st\n",
    "import seaborn as sns\n",
    "from matplotlib import pyplot as plt\n",
    "import numpy as np\n",
    "import math\n",
    "import datetime\n",
    "from datetime import date\n",
    "import calendar"
   ]
  },
  {
   "cell_type": "markdown",
   "metadata": {},
   "source": [
    "### Importar los archivos"
   ]
  },
  {
   "cell_type": "code",
   "execution_count": 84,
   "metadata": {},
   "outputs": [],
   "source": [
    "#Data Frame 1 contiene: company_name y trips_amount.\n",
    "#Data Frame 2 contiene: dropoff_location_name y average_trips.\n",
    "#Data Frame 3 contiene: start_ts, weather_conditions y duration_seconds.\n",
    "\n",
    "df_1 = pd.read_csv('https://practicum-content.s3.us-west-1.amazonaws.com/learning-materials/data-analyst-eng/moved_project_sql_result_01.csv')\n",
    "df_2 = pd.read_csv('https://practicum-content.s3.us-west-1.amazonaws.com/learning-materials/data-analyst-eng/moved_project_sql_result_04.csv')\n",
    "df_3 = pd.read_csv('https://practicum-content.s3.us-west-1.amazonaws.com/learning-materials/data-analyst-eng/moved_project_sql_result_07.csv')"
   ]
  },
  {
   "cell_type": "markdown",
   "metadata": {},
   "source": [
    "### Revisión de los data frames #1:"
   ]
  },
  {
   "cell_type": "code",
   "execution_count": 85,
   "metadata": {},
   "outputs": [
    {
     "name": "stdout",
     "output_type": "stream",
     "text": [
      "<class 'pandas.core.frame.DataFrame'>\n",
      "RangeIndex: 64 entries, 0 to 63\n",
      "Data columns (total 2 columns):\n",
      " #   Column        Non-Null Count  Dtype \n",
      "---  ------        --------------  ----- \n",
      " 0   company_name  64 non-null     object\n",
      " 1   trips_amount  64 non-null     int64 \n",
      "dtypes: int64(1), object(1)\n",
      "memory usage: 1.1+ KB\n"
     ]
    }
   ],
   "source": [
    "df_1.info()"
   ]
  },
  {
   "cell_type": "code",
   "execution_count": 86,
   "metadata": {},
   "outputs": [
    {
     "data": {
      "text/html": [
       "<div>\n",
       "<style scoped>\n",
       "    .dataframe tbody tr th:only-of-type {\n",
       "        vertical-align: middle;\n",
       "    }\n",
       "\n",
       "    .dataframe tbody tr th {\n",
       "        vertical-align: top;\n",
       "    }\n",
       "\n",
       "    .dataframe thead th {\n",
       "        text-align: right;\n",
       "    }\n",
       "</style>\n",
       "<table border=\"1\" class=\"dataframe\">\n",
       "  <thead>\n",
       "    <tr style=\"text-align: right;\">\n",
       "      <th></th>\n",
       "      <th>company_name</th>\n",
       "      <th>trips_amount</th>\n",
       "    </tr>\n",
       "  </thead>\n",
       "  <tbody>\n",
       "    <tr>\n",
       "      <th>0</th>\n",
       "      <td>Flash Cab</td>\n",
       "      <td>19558</td>\n",
       "    </tr>\n",
       "    <tr>\n",
       "      <th>1</th>\n",
       "      <td>Taxi Affiliation Services</td>\n",
       "      <td>11422</td>\n",
       "    </tr>\n",
       "    <tr>\n",
       "      <th>2</th>\n",
       "      <td>Medallion Leasin</td>\n",
       "      <td>10367</td>\n",
       "    </tr>\n",
       "    <tr>\n",
       "      <th>3</th>\n",
       "      <td>Yellow Cab</td>\n",
       "      <td>9888</td>\n",
       "    </tr>\n",
       "    <tr>\n",
       "      <th>4</th>\n",
       "      <td>Taxi Affiliation Service Yellow</td>\n",
       "      <td>9299</td>\n",
       "    </tr>\n",
       "  </tbody>\n",
       "</table>\n",
       "</div>"
      ],
      "text/plain": [
       "                      company_name  trips_amount\n",
       "0                        Flash Cab         19558\n",
       "1        Taxi Affiliation Services         11422\n",
       "2                 Medallion Leasin         10367\n",
       "3                       Yellow Cab          9888\n",
       "4  Taxi Affiliation Service Yellow          9299"
      ]
     },
     "execution_count": 86,
     "metadata": {},
     "output_type": "execute_result"
    }
   ],
   "source": [
    "df_1.head()"
   ]
  },
  {
   "cell_type": "markdown",
   "metadata": {},
   "source": [
    "Se puede observar un data frame con solo dos columnas y 64 líneas, en un primer momento parece que todos los datos están completos y los tipos de datos son adecuados en cada columna. "
   ]
  },
  {
   "cell_type": "code",
   "execution_count": 87,
   "metadata": {},
   "outputs": [
    {
     "name": "stdout",
     "output_type": "stream",
     "text": [
      "0\n"
     ]
    }
   ],
   "source": [
    "print(df_1.duplicated().sum())"
   ]
  },
  {
   "cell_type": "markdown",
   "metadata": {},
   "source": [
    "Además, no existen valores duplicados en el data frame. "
   ]
  },
  {
   "cell_type": "code",
   "execution_count": 88,
   "metadata": {},
   "outputs": [
    {
     "data": {
      "text/html": [
       "<div>\n",
       "<style scoped>\n",
       "    .dataframe tbody tr th:only-of-type {\n",
       "        vertical-align: middle;\n",
       "    }\n",
       "\n",
       "    .dataframe tbody tr th {\n",
       "        vertical-align: top;\n",
       "    }\n",
       "\n",
       "    .dataframe thead th {\n",
       "        text-align: right;\n",
       "    }\n",
       "</style>\n",
       "<table border=\"1\" class=\"dataframe\">\n",
       "  <thead>\n",
       "    <tr style=\"text-align: right;\">\n",
       "      <th></th>\n",
       "      <th>trips_amount</th>\n",
       "    </tr>\n",
       "  </thead>\n",
       "  <tbody>\n",
       "    <tr>\n",
       "      <th>count</th>\n",
       "      <td>64.000000</td>\n",
       "    </tr>\n",
       "    <tr>\n",
       "      <th>mean</th>\n",
       "      <td>2145.484375</td>\n",
       "    </tr>\n",
       "    <tr>\n",
       "      <th>std</th>\n",
       "      <td>3812.310186</td>\n",
       "    </tr>\n",
       "    <tr>\n",
       "      <th>min</th>\n",
       "      <td>2.000000</td>\n",
       "    </tr>\n",
       "    <tr>\n",
       "      <th>25%</th>\n",
       "      <td>20.750000</td>\n",
       "    </tr>\n",
       "    <tr>\n",
       "      <th>50%</th>\n",
       "      <td>178.500000</td>\n",
       "    </tr>\n",
       "    <tr>\n",
       "      <th>75%</th>\n",
       "      <td>2106.500000</td>\n",
       "    </tr>\n",
       "    <tr>\n",
       "      <th>max</th>\n",
       "      <td>19558.000000</td>\n",
       "    </tr>\n",
       "  </tbody>\n",
       "</table>\n",
       "</div>"
      ],
      "text/plain": [
       "       trips_amount\n",
       "count     64.000000\n",
       "mean    2145.484375\n",
       "std     3812.310186\n",
       "min        2.000000\n",
       "25%       20.750000\n",
       "50%      178.500000\n",
       "75%     2106.500000\n",
       "max    19558.000000"
      ]
     },
     "execution_count": 88,
     "metadata": {},
     "output_type": "execute_result"
    }
   ],
   "source": [
    "df_1.describe()"
   ]
  },
  {
   "cell_type": "markdown",
   "metadata": {},
   "source": [
    "### Revisión de los data frames #2:"
   ]
  },
  {
   "cell_type": "code",
   "execution_count": 89,
   "metadata": {},
   "outputs": [
    {
     "name": "stdout",
     "output_type": "stream",
     "text": [
      "<class 'pandas.core.frame.DataFrame'>\n",
      "RangeIndex: 94 entries, 0 to 93\n",
      "Data columns (total 2 columns):\n",
      " #   Column                 Non-Null Count  Dtype  \n",
      "---  ------                 --------------  -----  \n",
      " 0   dropoff_location_name  94 non-null     object \n",
      " 1   average_trips          94 non-null     float64\n",
      "dtypes: float64(1), object(1)\n",
      "memory usage: 1.6+ KB\n"
     ]
    }
   ],
   "source": [
    "df_2.info()"
   ]
  },
  {
   "cell_type": "code",
   "execution_count": 90,
   "metadata": {},
   "outputs": [
    {
     "data": {
      "text/html": [
       "<div>\n",
       "<style scoped>\n",
       "    .dataframe tbody tr th:only-of-type {\n",
       "        vertical-align: middle;\n",
       "    }\n",
       "\n",
       "    .dataframe tbody tr th {\n",
       "        vertical-align: top;\n",
       "    }\n",
       "\n",
       "    .dataframe thead th {\n",
       "        text-align: right;\n",
       "    }\n",
       "</style>\n",
       "<table border=\"1\" class=\"dataframe\">\n",
       "  <thead>\n",
       "    <tr style=\"text-align: right;\">\n",
       "      <th></th>\n",
       "      <th>dropoff_location_name</th>\n",
       "      <th>average_trips</th>\n",
       "    </tr>\n",
       "  </thead>\n",
       "  <tbody>\n",
       "    <tr>\n",
       "      <th>0</th>\n",
       "      <td>Loop</td>\n",
       "      <td>10727.466667</td>\n",
       "    </tr>\n",
       "    <tr>\n",
       "      <th>1</th>\n",
       "      <td>River North</td>\n",
       "      <td>9523.666667</td>\n",
       "    </tr>\n",
       "    <tr>\n",
       "      <th>2</th>\n",
       "      <td>Streeterville</td>\n",
       "      <td>6664.666667</td>\n",
       "    </tr>\n",
       "    <tr>\n",
       "      <th>3</th>\n",
       "      <td>West Loop</td>\n",
       "      <td>5163.666667</td>\n",
       "    </tr>\n",
       "    <tr>\n",
       "      <th>4</th>\n",
       "      <td>O'Hare</td>\n",
       "      <td>2546.900000</td>\n",
       "    </tr>\n",
       "  </tbody>\n",
       "</table>\n",
       "</div>"
      ],
      "text/plain": [
       "  dropoff_location_name  average_trips\n",
       "0                  Loop   10727.466667\n",
       "1           River North    9523.666667\n",
       "2         Streeterville    6664.666667\n",
       "3             West Loop    5163.666667\n",
       "4                O'Hare    2546.900000"
      ]
     },
     "execution_count": 90,
     "metadata": {},
     "output_type": "execute_result"
    }
   ],
   "source": [
    "df_2.head()"
   ]
  },
  {
   "cell_type": "code",
   "execution_count": 91,
   "metadata": {},
   "outputs": [
    {
     "name": "stdout",
     "output_type": "stream",
     "text": [
      "0\n"
     ]
    }
   ],
   "source": [
    "print(df_2.duplicated().sum())"
   ]
  },
  {
   "cell_type": "code",
   "execution_count": 92,
   "metadata": {},
   "outputs": [
    {
     "data": {
      "text/html": [
       "<div>\n",
       "<style scoped>\n",
       "    .dataframe tbody tr th:only-of-type {\n",
       "        vertical-align: middle;\n",
       "    }\n",
       "\n",
       "    .dataframe tbody tr th {\n",
       "        vertical-align: top;\n",
       "    }\n",
       "\n",
       "    .dataframe thead th {\n",
       "        text-align: right;\n",
       "    }\n",
       "</style>\n",
       "<table border=\"1\" class=\"dataframe\">\n",
       "  <thead>\n",
       "    <tr style=\"text-align: right;\">\n",
       "      <th></th>\n",
       "      <th>average_trips</th>\n",
       "    </tr>\n",
       "  </thead>\n",
       "  <tbody>\n",
       "    <tr>\n",
       "      <th>count</th>\n",
       "      <td>94.000000</td>\n",
       "    </tr>\n",
       "    <tr>\n",
       "      <th>mean</th>\n",
       "      <td>599.953728</td>\n",
       "    </tr>\n",
       "    <tr>\n",
       "      <th>std</th>\n",
       "      <td>1714.591098</td>\n",
       "    </tr>\n",
       "    <tr>\n",
       "      <th>min</th>\n",
       "      <td>1.800000</td>\n",
       "    </tr>\n",
       "    <tr>\n",
       "      <th>25%</th>\n",
       "      <td>14.266667</td>\n",
       "    </tr>\n",
       "    <tr>\n",
       "      <th>50%</th>\n",
       "      <td>52.016667</td>\n",
       "    </tr>\n",
       "    <tr>\n",
       "      <th>75%</th>\n",
       "      <td>298.858333</td>\n",
       "    </tr>\n",
       "    <tr>\n",
       "      <th>max</th>\n",
       "      <td>10727.466667</td>\n",
       "    </tr>\n",
       "  </tbody>\n",
       "</table>\n",
       "</div>"
      ],
      "text/plain": [
       "       average_trips\n",
       "count      94.000000\n",
       "mean      599.953728\n",
       "std      1714.591098\n",
       "min         1.800000\n",
       "25%        14.266667\n",
       "50%        52.016667\n",
       "75%       298.858333\n",
       "max     10727.466667"
      ]
     },
     "execution_count": 92,
     "metadata": {},
     "output_type": "execute_result"
    }
   ],
   "source": [
    "df_2.describe()"
   ]
  },
  {
   "cell_type": "markdown",
   "metadata": {},
   "source": [
    "Al igual que con el data frame 1, el 2 cuenta con dos columnas, ambas con tipos de datos correctos, cero valores ausentes o duplicados. "
   ]
  },
  {
   "cell_type": "markdown",
   "metadata": {},
   "source": [
    "<div class=\"alert alert-block alert-success\">\n",
    "<b>Comentario de Reviewer</b> <a class=\"tocSkip\"></a>\n",
    "\n",
    "Correcto, muy bien con la revisión inicial de los dos dataframes.\n",
    "\n",
    "</div>"
   ]
  },
  {
   "cell_type": "markdown",
   "metadata": {},
   "source": [
    "## Los 10 principales barrios en términos de finalización del recorrido"
   ]
  },
  {
   "cell_type": "code",
   "execution_count": 93,
   "metadata": {},
   "outputs": [
    {
     "data": {
      "text/html": [
       "<div>\n",
       "<style scoped>\n",
       "    .dataframe tbody tr th:only-of-type {\n",
       "        vertical-align: middle;\n",
       "    }\n",
       "\n",
       "    .dataframe tbody tr th {\n",
       "        vertical-align: top;\n",
       "    }\n",
       "\n",
       "    .dataframe thead th {\n",
       "        text-align: right;\n",
       "    }\n",
       "</style>\n",
       "<table border=\"1\" class=\"dataframe\">\n",
       "  <thead>\n",
       "    <tr style=\"text-align: right;\">\n",
       "      <th></th>\n",
       "      <th>dropoff_location_name</th>\n",
       "      <th>average_trips</th>\n",
       "    </tr>\n",
       "  </thead>\n",
       "  <tbody>\n",
       "    <tr>\n",
       "      <th>0</th>\n",
       "      <td>Loop</td>\n",
       "      <td>10727.466667</td>\n",
       "    </tr>\n",
       "    <tr>\n",
       "      <th>1</th>\n",
       "      <td>River North</td>\n",
       "      <td>9523.666667</td>\n",
       "    </tr>\n",
       "    <tr>\n",
       "      <th>2</th>\n",
       "      <td>Streeterville</td>\n",
       "      <td>6664.666667</td>\n",
       "    </tr>\n",
       "    <tr>\n",
       "      <th>3</th>\n",
       "      <td>West Loop</td>\n",
       "      <td>5163.666667</td>\n",
       "    </tr>\n",
       "    <tr>\n",
       "      <th>4</th>\n",
       "      <td>O'Hare</td>\n",
       "      <td>2546.900000</td>\n",
       "    </tr>\n",
       "    <tr>\n",
       "      <th>5</th>\n",
       "      <td>Lake View</td>\n",
       "      <td>2420.966667</td>\n",
       "    </tr>\n",
       "    <tr>\n",
       "      <th>6</th>\n",
       "      <td>Grant Park</td>\n",
       "      <td>2068.533333</td>\n",
       "    </tr>\n",
       "    <tr>\n",
       "      <th>7</th>\n",
       "      <td>Museum Campus</td>\n",
       "      <td>1510.000000</td>\n",
       "    </tr>\n",
       "    <tr>\n",
       "      <th>8</th>\n",
       "      <td>Gold Coast</td>\n",
       "      <td>1364.233333</td>\n",
       "    </tr>\n",
       "    <tr>\n",
       "      <th>9</th>\n",
       "      <td>Sheffield &amp; DePaul</td>\n",
       "      <td>1259.766667</td>\n",
       "    </tr>\n",
       "  </tbody>\n",
       "</table>\n",
       "</div>"
      ],
      "text/plain": [
       "  dropoff_location_name  average_trips\n",
       "0                  Loop   10727.466667\n",
       "1           River North    9523.666667\n",
       "2         Streeterville    6664.666667\n",
       "3             West Loop    5163.666667\n",
       "4                O'Hare    2546.900000\n",
       "5             Lake View    2420.966667\n",
       "6            Grant Park    2068.533333\n",
       "7         Museum Campus    1510.000000\n",
       "8            Gold Coast    1364.233333\n",
       "9    Sheffield & DePaul    1259.766667"
      ]
     },
     "execution_count": 93,
     "metadata": {},
     "output_type": "execute_result"
    }
   ],
   "source": [
    "top_10_dropoffs = df_2.sort_values(by = 'average_trips', ascending = False).head(10)\n",
    "\n",
    "top_10_dropoffs"
   ]
  },
  {
   "cell_type": "code",
   "execution_count": 94,
   "metadata": {
    "scrolled": false
   },
   "outputs": [
    {
     "data": {
      "image/png": "[encoded data removed]",
      "text/plain": [
       "<Figure size 1200x800 with 1 Axes>"
      ]
     },
     "metadata": {},
     "output_type": "display_data"
    }
   ],
   "source": [
    "# Aumentar el tamaño de la figura\n",
    "plt.figure(figsize=(12, 8))\n",
    "\n",
    "# Crear la gráfica de barras\n",
    "sns.barplot(data=top_10_dropoffs, x='dropoff_location_name', y='average_trips', palette='viridis')\n",
    "\n",
    "# Título y etiquetas de los ejes\n",
    "plt.title('Top 10 Drop-off Locations', fontsize=16, fontweight='bold')\n",
    "plt.xlabel('Neighborhood', fontsize=14)\n",
    "plt.ylabel('Average Trips', fontsize=14)\n",
    "\n",
    "# Rotar las etiquetas del eje x para una mejor legibilidad\n",
    "plt.xticks(rotation=45, ha='right', fontsize=12)\n",
    "\n",
    "# Añadir etiquetas de datos en las barras\n",
    "for index, row in top_10_dropoffs.iterrows():\n",
    "    plt.text(index, row['average_trips'], round(row['average_trips'], 2), color='black', ha=\"center\", fontsize=12)\n",
    "\n",
    "# Establecer un estilo\n",
    "sns.set_style(\"whitegrid\")\n",
    "\n",
    "# Mostrar la gráfica\n",
    "plt.tight_layout()\n",
    "plt.show()"
   ]
  },
  {
   "cell_type": "markdown",
   "metadata": {},
   "source": [
    "La gráfica de los destinos más comunes nos permite ver un gran salto entre el top 4 y el resto de destinos, algo similar ocurre con los dos principales destinos, donde vemos números que superan al siguiente por casi dos mil viajes en promedio. \n",
    "\n",
    "Tanto la tabla como la gráfica evidencian que el barrio más frecuentado como destino final es el Loop, seguido por River North y Streeterville."
   ]
  },
  {
   "cell_type": "markdown",
   "metadata": {},
   "source": [
    "<div class=\"alert alert-block alert-success\">\n",
    "<b>Comentario de Reviewer</b> <a class=\"tocSkip\"></a>\n",
    "\n",
    "Buen trabajo, efectivamente los primeros cuatro concentran mucha más demanda\n",
    "\n",
    "</div>"
   ]
  },
  {
   "cell_type": "markdown",
   "metadata": {},
   "source": [
    "## Las compañías de transporte con más viajes"
   ]
  },
  {
   "cell_type": "code",
   "execution_count": 95,
   "metadata": {},
   "outputs": [
    {
     "data": {
      "text/html": [
       "<div>\n",
       "<style scoped>\n",
       "    .dataframe tbody tr th:only-of-type {\n",
       "        vertical-align: middle;\n",
       "    }\n",
       "\n",
       "    .dataframe tbody tr th {\n",
       "        vertical-align: top;\n",
       "    }\n",
       "\n",
       "    .dataframe thead th {\n",
       "        text-align: right;\n",
       "    }\n",
       "</style>\n",
       "<table border=\"1\" class=\"dataframe\">\n",
       "  <thead>\n",
       "    <tr style=\"text-align: right;\">\n",
       "      <th></th>\n",
       "      <th>company_name</th>\n",
       "      <th>trips_amount</th>\n",
       "    </tr>\n",
       "  </thead>\n",
       "  <tbody>\n",
       "    <tr>\n",
       "      <th>0</th>\n",
       "      <td>Flash Cab</td>\n",
       "      <td>19558</td>\n",
       "    </tr>\n",
       "    <tr>\n",
       "      <th>1</th>\n",
       "      <td>Taxi Affiliation Services</td>\n",
       "      <td>11422</td>\n",
       "    </tr>\n",
       "    <tr>\n",
       "      <th>2</th>\n",
       "      <td>Medallion Leasin</td>\n",
       "      <td>10367</td>\n",
       "    </tr>\n",
       "    <tr>\n",
       "      <th>3</th>\n",
       "      <td>Yellow Cab</td>\n",
       "      <td>9888</td>\n",
       "    </tr>\n",
       "    <tr>\n",
       "      <th>4</th>\n",
       "      <td>Taxi Affiliation Service Yellow</td>\n",
       "      <td>9299</td>\n",
       "    </tr>\n",
       "    <tr>\n",
       "      <th>5</th>\n",
       "      <td>Chicago Carriage Cab Corp</td>\n",
       "      <td>9181</td>\n",
       "    </tr>\n",
       "    <tr>\n",
       "      <th>6</th>\n",
       "      <td>City Service</td>\n",
       "      <td>8448</td>\n",
       "    </tr>\n",
       "    <tr>\n",
       "      <th>7</th>\n",
       "      <td>Sun Taxi</td>\n",
       "      <td>7701</td>\n",
       "    </tr>\n",
       "    <tr>\n",
       "      <th>8</th>\n",
       "      <td>Star North Management LLC</td>\n",
       "      <td>7455</td>\n",
       "    </tr>\n",
       "    <tr>\n",
       "      <th>9</th>\n",
       "      <td>Blue Ribbon Taxi Association Inc.</td>\n",
       "      <td>5953</td>\n",
       "    </tr>\n",
       "  </tbody>\n",
       "</table>\n",
       "</div>"
      ],
      "text/plain": [
       "                        company_name  trips_amount\n",
       "0                          Flash Cab         19558\n",
       "1          Taxi Affiliation Services         11422\n",
       "2                   Medallion Leasin         10367\n",
       "3                         Yellow Cab          9888\n",
       "4    Taxi Affiliation Service Yellow          9299\n",
       "5          Chicago Carriage Cab Corp          9181\n",
       "6                       City Service          8448\n",
       "7                           Sun Taxi          7701\n",
       "8          Star North Management LLC          7455\n",
       "9  Blue Ribbon Taxi Association Inc.          5953"
      ]
     },
     "execution_count": 95,
     "metadata": {},
     "output_type": "execute_result"
    }
   ],
   "source": [
    "top_10_companies = df_1.sort_values(by = 'trips_amount', ascending = False).head(10)\n",
    "\n",
    "top_10_companies"
   ]
  },
  {
   "cell_type": "code",
   "execution_count": 96,
   "metadata": {},
   "outputs": [
    {
     "data": {
      "image/png": "[encoded data removed]",
      "text/plain": [
       "<Figure size 1400x800 with 1 Axes>"
      ]
     },
     "metadata": {},
     "output_type": "display_data"
    }
   ],
   "source": [
    "# Aumentar el tamaño de la figura\n",
    "plt.figure(figsize=(14, 8))\n",
    "\n",
    "# Crear la gráfica de barras con una paleta de colores mejorada\n",
    "sns.barplot(data=top_10_companies, x='company_name', y='trips_amount', palette='viridis')\n",
    "\n",
    "# Título y etiquetas de los ejes\n",
    "plt.title('Top 10 Companies with Most Trips on November 15th and 16th', fontsize=16, fontweight='bold')\n",
    "plt.xlabel('Name of the Company', fontsize=14)\n",
    "plt.ylabel('Number of Trips', fontsize=14)\n",
    "\n",
    "# Rotar las etiquetas del eje x para una mejor legibilidad\n",
    "plt.xticks(rotation=45, ha='right', fontsize=12)\n",
    "\n",
    "# Añadir etiquetas de datos en las barras\n",
    "for index, row in top_10_companies.iterrows():\n",
    "    plt.text(index, row['trips_amount'], round(row['trips_amount'], 2), color='black', ha=\"center\", fontsize=12)\n",
    "\n",
    "# Establecer un estilo\n",
    "sns.set_style(\"whitegrid\")\n",
    "\n",
    "# Ajustar el diseño para evitar el recorte de etiquetas\n",
    "plt.tight_layout()\n",
    "\n",
    "# Mostrar la gráfica\n",
    "plt.show()"
   ]
  },
  {
   "cell_type": "markdown",
   "metadata": {},
   "source": [
    "La gráfica de las 10 compañías con más viajes evidencia claramente como Flash Cab es la compañía con más viajes durante las fechas señaladas, superando al segundo lugar, Taxi Affiliation Services, con más de 8000 viajes. \n",
    "\n",
    "Dejando de lado el número uno, el resto de compañías están mucho más parejas en cuanto a número de viajes, superando a la posición inmediatamente anterior por menos de mil viajes; exceptuando a Blue Ribbon Taxi Association Inc, la última compañía en el ranking, la cual tiene poco más de 1500 viajes menos que Star North Management LLC."
   ]
  },
  {
   "cell_type": "markdown",
   "metadata": {},
   "source": [
    "<div class=\"alert alert-block alert-success\">\n",
    "<b>Comentario de Reviewer</b> <a class=\"tocSkip\"></a>\n",
    "\n",
    "Muy bien, correcto\n",
    "</div>"
   ]
  },
  {
   "cell_type": "markdown",
   "metadata": {},
   "source": [
    "### Revisión del data frame 3:"
   ]
  },
  {
   "cell_type": "code",
   "execution_count": 97,
   "metadata": {},
   "outputs": [
    {
     "name": "stdout",
     "output_type": "stream",
     "text": [
      "<class 'pandas.core.frame.DataFrame'>\n",
      "RangeIndex: 1068 entries, 0 to 1067\n",
      "Data columns (total 3 columns):\n",
      " #   Column              Non-Null Count  Dtype  \n",
      "---  ------              --------------  -----  \n",
      " 0   start_ts            1068 non-null   object \n",
      " 1   weather_conditions  1068 non-null   object \n",
      " 2   duration_seconds    1068 non-null   float64\n",
      "dtypes: float64(1), object(2)\n",
      "memory usage: 25.2+ KB\n",
      "0\n"
     ]
    }
   ],
   "source": [
    "df_3.info()\n",
    "\n",
    "print(df_1.duplicated().sum())"
   ]
  },
  {
   "cell_type": "code",
   "execution_count": 98,
   "metadata": {},
   "outputs": [
    {
     "data": {
      "text/html": [
       "<div>\n",
       "<style scoped>\n",
       "    .dataframe tbody tr th:only-of-type {\n",
       "        vertical-align: middle;\n",
       "    }\n",
       "\n",
       "    .dataframe tbody tr th {\n",
       "        vertical-align: top;\n",
       "    }\n",
       "\n",
       "    .dataframe thead th {\n",
       "        text-align: right;\n",
       "    }\n",
       "</style>\n",
       "<table border=\"1\" class=\"dataframe\">\n",
       "  <thead>\n",
       "    <tr style=\"text-align: right;\">\n",
       "      <th></th>\n",
       "      <th>duration_seconds</th>\n",
       "    </tr>\n",
       "  </thead>\n",
       "  <tbody>\n",
       "    <tr>\n",
       "      <th>count</th>\n",
       "      <td>1068.000000</td>\n",
       "    </tr>\n",
       "    <tr>\n",
       "      <th>mean</th>\n",
       "      <td>2071.731273</td>\n",
       "    </tr>\n",
       "    <tr>\n",
       "      <th>std</th>\n",
       "      <td>769.461125</td>\n",
       "    </tr>\n",
       "    <tr>\n",
       "      <th>min</th>\n",
       "      <td>0.000000</td>\n",
       "    </tr>\n",
       "    <tr>\n",
       "      <th>25%</th>\n",
       "      <td>1438.250000</td>\n",
       "    </tr>\n",
       "    <tr>\n",
       "      <th>50%</th>\n",
       "      <td>1980.000000</td>\n",
       "    </tr>\n",
       "    <tr>\n",
       "      <th>75%</th>\n",
       "      <td>2580.000000</td>\n",
       "    </tr>\n",
       "    <tr>\n",
       "      <th>max</th>\n",
       "      <td>7440.000000</td>\n",
       "    </tr>\n",
       "  </tbody>\n",
       "</table>\n",
       "</div>"
      ],
      "text/plain": [
       "       duration_seconds\n",
       "count       1068.000000\n",
       "mean        2071.731273\n",
       "std          769.461125\n",
       "min            0.000000\n",
       "25%         1438.250000\n",
       "50%         1980.000000\n",
       "75%         2580.000000\n",
       "max         7440.000000"
      ]
     },
     "execution_count": 98,
     "metadata": {},
     "output_type": "execute_result"
    }
   ],
   "source": [
    "df_3.describe()"
   ]
  },
  {
   "cell_type": "code",
   "execution_count": 99,
   "metadata": {},
   "outputs": [
    {
     "data": {
      "text/html": [
       "<div>\n",
       "<style scoped>\n",
       "    .dataframe tbody tr th:only-of-type {\n",
       "        vertical-align: middle;\n",
       "    }\n",
       "\n",
       "    .dataframe tbody tr th {\n",
       "        vertical-align: top;\n",
       "    }\n",
       "\n",
       "    .dataframe thead th {\n",
       "        text-align: right;\n",
       "    }\n",
       "</style>\n",
       "<table border=\"1\" class=\"dataframe\">\n",
       "  <thead>\n",
       "    <tr style=\"text-align: right;\">\n",
       "      <th></th>\n",
       "      <th>start_ts</th>\n",
       "      <th>weather_conditions</th>\n",
       "      <th>duration_seconds</th>\n",
       "    </tr>\n",
       "  </thead>\n",
       "  <tbody>\n",
       "    <tr>\n",
       "      <th>0</th>\n",
       "      <td>2017-11-25 16:00:00</td>\n",
       "      <td>Good</td>\n",
       "      <td>2410.0</td>\n",
       "    </tr>\n",
       "    <tr>\n",
       "      <th>1</th>\n",
       "      <td>2017-11-25 14:00:00</td>\n",
       "      <td>Good</td>\n",
       "      <td>1920.0</td>\n",
       "    </tr>\n",
       "    <tr>\n",
       "      <th>2</th>\n",
       "      <td>2017-11-25 12:00:00</td>\n",
       "      <td>Good</td>\n",
       "      <td>1543.0</td>\n",
       "    </tr>\n",
       "    <tr>\n",
       "      <th>3</th>\n",
       "      <td>2017-11-04 10:00:00</td>\n",
       "      <td>Good</td>\n",
       "      <td>2512.0</td>\n",
       "    </tr>\n",
       "    <tr>\n",
       "      <th>4</th>\n",
       "      <td>2017-11-11 07:00:00</td>\n",
       "      <td>Good</td>\n",
       "      <td>1440.0</td>\n",
       "    </tr>\n",
       "  </tbody>\n",
       "</table>\n",
       "</div>"
      ],
      "text/plain": [
       "              start_ts weather_conditions  duration_seconds\n",
       "0  2017-11-25 16:00:00               Good            2410.0\n",
       "1  2017-11-25 14:00:00               Good            1920.0\n",
       "2  2017-11-25 12:00:00               Good            1543.0\n",
       "3  2017-11-04 10:00:00               Good            2512.0\n",
       "4  2017-11-11 07:00:00               Good            1440.0"
      ]
     },
     "execution_count": 99,
     "metadata": {},
     "output_type": "execute_result"
    }
   ],
   "source": [
    "df_3.head()"
   ]
  },
  {
   "cell_type": "markdown",
   "metadata": {},
   "source": [
    "Tras una revisión rápida del data frame 3 podemos ver que no hay valores ausentes ni duplicados, sin embargo, la columna de 'start_ts' no está en el tipo adecuando, ya que se trata de una fecha y su tipo actual es 'object'.\n",
    "\n",
    "Además, evaluando la prueba de hipótesis, se agregará una nueva columna donde se extraiga el día de la semana en la que se hizo cada viaje y así facilitar el análisis. "
   ]
  },
  {
   "cell_type": "code",
   "execution_count": 100,
   "metadata": {},
   "outputs": [
    {
     "name": "stdout",
     "output_type": "stream",
     "text": [
      "<class 'pandas.core.frame.DataFrame'>\n",
      "RangeIndex: 1068 entries, 0 to 1067\n",
      "Data columns (total 3 columns):\n",
      " #   Column              Non-Null Count  Dtype         \n",
      "---  ------              --------------  -----         \n",
      " 0   start_ts            1068 non-null   datetime64[ns]\n",
      " 1   weather_conditions  1068 non-null   object        \n",
      " 2   duration_seconds    1068 non-null   float64       \n",
      "dtypes: datetime64[ns](1), float64(1), object(1)\n",
      "memory usage: 25.2+ KB\n"
     ]
    }
   ],
   "source": [
    "df_3['start_ts'] = pd.to_datetime(df_3['start_ts'], format='%Y-%m-%d %H:%M:%S')\n",
    "\n",
    "df_3.info()"
   ]
  },
  {
   "cell_type": "code",
   "execution_count": 101,
   "metadata": {},
   "outputs": [
    {
     "data": {
      "text/html": [
       "<div>\n",
       "<style scoped>\n",
       "    .dataframe tbody tr th:only-of-type {\n",
       "        vertical-align: middle;\n",
       "    }\n",
       "\n",
       "    .dataframe tbody tr th {\n",
       "        vertical-align: top;\n",
       "    }\n",
       "\n",
       "    .dataframe thead th {\n",
       "        text-align: right;\n",
       "    }\n",
       "</style>\n",
       "<table border=\"1\" class=\"dataframe\">\n",
       "  <thead>\n",
       "    <tr style=\"text-align: right;\">\n",
       "      <th></th>\n",
       "      <th>start_ts</th>\n",
       "      <th>weather_conditions</th>\n",
       "      <th>duration_seconds</th>\n",
       "      <th>day_of_week</th>\n",
       "    </tr>\n",
       "  </thead>\n",
       "  <tbody>\n",
       "    <tr>\n",
       "      <th>296</th>\n",
       "      <td>2017-11-04 17:00:00</td>\n",
       "      <td>Bad</td>\n",
       "      <td>2640.0</td>\n",
       "      <td>5</td>\n",
       "    </tr>\n",
       "    <tr>\n",
       "      <th>563</th>\n",
       "      <td>2017-11-11 06:00:00</td>\n",
       "      <td>Good</td>\n",
       "      <td>1200.0</td>\n",
       "      <td>5</td>\n",
       "    </tr>\n",
       "    <tr>\n",
       "      <th>513</th>\n",
       "      <td>2017-11-04 14:00:00</td>\n",
       "      <td>Good</td>\n",
       "      <td>3286.0</td>\n",
       "      <td>5</td>\n",
       "    </tr>\n",
       "    <tr>\n",
       "      <th>559</th>\n",
       "      <td>2017-11-11 14:00:00</td>\n",
       "      <td>Good</td>\n",
       "      <td>2640.0</td>\n",
       "      <td>5</td>\n",
       "    </tr>\n",
       "    <tr>\n",
       "      <th>747</th>\n",
       "      <td>2017-11-04 18:00:00</td>\n",
       "      <td>Bad</td>\n",
       "      <td>2220.0</td>\n",
       "      <td>5</td>\n",
       "    </tr>\n",
       "  </tbody>\n",
       "</table>\n",
       "</div>"
      ],
      "text/plain": [
       "               start_ts weather_conditions  duration_seconds  day_of_week\n",
       "296 2017-11-04 17:00:00                Bad            2640.0            5\n",
       "563 2017-11-11 06:00:00               Good            1200.0            5\n",
       "513 2017-11-04 14:00:00               Good            3286.0            5\n",
       "559 2017-11-11 14:00:00               Good            2640.0            5\n",
       "747 2017-11-04 18:00:00                Bad            2220.0            5"
      ]
     },
     "execution_count": 101,
     "metadata": {},
     "output_type": "execute_result"
    }
   ],
   "source": [
    "df_3['day_of_week'] = df_3['start_ts'].dt.weekday\n",
    "\n",
    "df_3.sample(5)"
   ]
  },
  {
   "cell_type": "code",
   "execution_count": 102,
   "metadata": {},
   "outputs": [
    {
     "data": {
      "text/html": [
       "<div>\n",
       "<style scoped>\n",
       "    .dataframe tbody tr th:only-of-type {\n",
       "        vertical-align: middle;\n",
       "    }\n",
       "\n",
       "    .dataframe tbody tr th {\n",
       "        vertical-align: top;\n",
       "    }\n",
       "\n",
       "    .dataframe thead th {\n",
       "        text-align: right;\n",
       "    }\n",
       "</style>\n",
       "<table border=\"1\" class=\"dataframe\">\n",
       "  <thead>\n",
       "    <tr style=\"text-align: right;\">\n",
       "      <th></th>\n",
       "      <th>start_ts</th>\n",
       "      <th>weather_conditions</th>\n",
       "      <th>duration_seconds</th>\n",
       "      <th>day_of_week</th>\n",
       "    </tr>\n",
       "  </thead>\n",
       "  <tbody>\n",
       "  </tbody>\n",
       "</table>\n",
       "</div>"
      ],
      "text/plain": [
       "Empty DataFrame\n",
       "Columns: [start_ts, weather_conditions, duration_seconds, day_of_week]\n",
       "Index: []"
      ]
     },
     "execution_count": 102,
     "metadata": {},
     "output_type": "execute_result"
    }
   ],
   "source": [
    "#Aquí se quería comprobar si existían valores en el data frame para días que no fueran sábado (sábado = 5). \n",
    "\n",
    "df_3[df_3['day_of_week'] != 5]"
   ]
  },
  {
   "cell_type": "markdown",
   "metadata": {},
   "source": [
    "<div class=\"alert alert-block alert-success\">\n",
    "<b>Comentario de Reviewer</b> <a class=\"tocSkip\"></a>\n",
    "\n",
    "Bien con revisar la data. Toda es de un día sábado. \n",
    "</div>"
   ]
  },
  {
   "cell_type": "markdown",
   "metadata": {},
   "source": [
    "## Pruebas de hipótesis"
   ]
  },
  {
   "cell_type": "markdown",
   "metadata": {},
   "source": [
    "H0 = La duración promedio de los viajes desde el Loop hasta el Aeropuerto Internacional O'Hare es igual los sábados, sin importar si llueve. \n",
    "\n",
    "H1 = La duración promedio de los viajes desde el Loop hasta el Aeropuerto Internacional O'Hare cambia los sábados lluviosos.\n",
    "\n",
    "- Se usará el nivel de significancia estándar de  𝑎𝑙𝑝ℎ𝑎  de 0.05.\n",
    "\n",
    "- Se compararán dos categorías con respecto a una variable numérica ('duration seconds'), aquí se desconocen las desviaciones estándar, es por ello que para probar las hipótesis se usará el ttest."
   ]
  },
  {
   "cell_type": "code",
   "execution_count": 103,
   "metadata": {},
   "outputs": [],
   "source": [
    "# Agrupación de los viajes según las condiciones dadas\n",
    "\n",
    "loop_ohare_clima_bueno_sabado = df_3.query(\"weather_conditions != 'Bad'\")['duration_seconds']\n",
    "loop_ohare_clima_malo_sabado = df_3.query(\"weather_conditions == 'Bad'\")['duration_seconds']\n"
   ]
  },
  {
   "cell_type": "markdown",
   "metadata": {},
   "source": [
    "<div class=\"alert alert-block alert-danger\">\n",
    "<b>Comentario de Reviewer</b> <a class=\"tocSkip\"></a>\n",
    "\n",
    "Está muy bien pero antes de realizar el test primero revisa si existen outliers, los cuales debes remover si son demasiados. Además, el t-test utiliza un parámetro de igualdad de varianzas por defecto. Para decidir correctamente si usar varianzas iguales o diferentes realiza un test de levene antes.\n",
    "</div>"
   ]
  },
  {
   "cell_type": "markdown",
   "metadata": {},
   "source": [
    "<div class=\"alert alert-block alert-info\">\n",
    "<b>Empecemos visualizar, identificar outliers(o valores atípicos) y por unltimo eliminarlos y confirmar que ya no tenemos nada .</b> <a class=\"tocSkip\"></a>\n",
    "</div>"
   ]
  },
  {
   "cell_type": "code",
   "execution_count": 109,
   "metadata": {
    "scrolled": false
   },
   "outputs": [
    {
     "data": {
      "image/png": "[encoded data removed]",
      "text/plain": [
       "<Figure size 800x400 with 1 Axes>"
      ]
     },
     "metadata": {},
     "output_type": "display_data"
    },
    {
     "data": {
      "image/png": "[encoded data removed]",
      "text/plain": [
       "<Figure size 800x400 with 1 Axes>"
      ]
     },
     "metadata": {},
     "output_type": "display_data"
    },
    {
     "data": {
      "image/png": "[encoded data removed]",
      "text/plain": [
       "<Figure size 800x400 with 1 Axes>"
      ]
     },
     "metadata": {},
     "output_type": "display_data"
    },
    {
     "name": "stdout",
     "output_type": "stream",
     "text": [
      "Outliers en df_1:\n",
      "                        company_name  trips_amount\n",
      "0                          Flash Cab         19558\n",
      "1          Taxi Affiliation Services         11422\n",
      "2                   Medallion Leasin         10367\n",
      "3                         Yellow Cab          9888\n",
      "4    Taxi Affiliation Service Yellow          9299\n",
      "5          Chicago Carriage Cab Corp          9181\n",
      "6                       City Service          8448\n",
      "7                           Sun Taxi          7701\n",
      "8          Star North Management LLC          7455\n",
      "9  Blue Ribbon Taxi Association Inc.          5953\n",
      "Datos sin outliers en df_1:\n",
      "                                    company_name  trips_amount\n",
      "10                       Choice Taxi Association          5015\n",
      "11                                    Globe Taxi          4383\n",
      "12                     Dispatch Taxi Affiliation          3355\n",
      "13                     Nova Taxi Affiliation Llc          3175\n",
      "14          Patriot Taxi Dba Peace Taxi Associat          2235\n",
      "15                      Checker Taxi Affiliation          2216\n",
      "16                                  Blue Diamond          2070\n",
      "17                  Chicago Medallion Management          1955\n",
      "18                                 24 Seven Taxi          1775\n",
      "19                 Chicago Medallion Leasing INC          1607\n",
      "20                                  Checker Taxi          1486\n",
      "21                               American United          1404\n",
      "22                          Chicago Independents          1296\n",
      "23                         KOAM Taxi Association          1259\n",
      "24                               Chicago Taxicab          1014\n",
      "25                           Top Cab Affiliation           978\n",
      "26                               Gold Coast Taxi           428\n",
      "27                      Service Taxi Association           402\n",
      "28                                   5 Star Taxi           310\n",
      "29                                      303 Taxi           250\n",
      "30                                    Setare Inc           230\n",
      "31              American United Taxi Affiliation           210\n",
      "32                                Leonard Cab Co           147\n",
      "33                              Metro Jet Taxi A           146\n",
      "34                                  Norshore Cab           127\n",
      "35                   6742 - 83735 Tasha ride inc            39\n",
      "36                        3591 - 63480 Chuks Cab            37\n",
      "37                        1469 - 64126 Omar Jada            36\n",
      "38                       6743 - 78771 Luhak Corp            33\n",
      "39                   0118 - 42111 Godfrey S.Awir            33\n",
      "40                   6574 - Babylon Express Inc.            31\n",
      "41                          Chicago Star Taxicab            29\n",
      "42                   1085 - 72312 N and W Cab Co            29\n",
      "43                2809 - 95474 C & D Cab Co Inc.            29\n",
      "44                    2092 - 61288 Sbeih company            27\n",
      "45                     3011 - 66308 JBL Cab Inc.            25\n",
      "46               3620 - 52292 David K. Cab Corp.            21\n",
      "47                 4615 - 83503 Tyrone Henderson            21\n",
      "48            3623 - 72222 Arrington Enterprises            20\n",
      "49                        5074 - 54002 Ahzmi Inc            16\n",
      "50                  2823 - 73307 Lee Express Inc            15\n",
      "51                          4623 - 27290 Jay Kim            15\n",
      "52  3721 - Santamaria Express, Alvaro Santamaria            14\n",
      "53                      5006 - 39261 Salifu Bawa            14\n",
      "54                     2192 - 73487 Zeymane Corp            14\n",
      "55                     6057 - 24657 Richard Addo            13\n",
      "56                 5997 - 65283 AW Services Inc.            12\n",
      "57                                   Metro Group            11\n",
      "58                       5062 - 34841 Sam Mestas             8\n",
      "59                  4053 - 40193 Adwar H. Nikola             7\n",
      "60                       2733 - 74600 Benny Jona             7\n",
      "61                 5874 - 73628 Sergey Cab Corp.             5\n",
      "62     2241 - 44667 - Felman Corp, Manuel Alonso             3\n",
      "63                   3556 - 36214 RC Andrews Cab             2\n",
      "Outliers en df_2:\n",
      "   dropoff_location_name  average_trips\n",
      "0                   Loop   10727.466667\n",
      "1            River North    9523.666667\n",
      "2          Streeterville    6664.666667\n",
      "3              West Loop    5163.666667\n",
      "4                 O'Hare    2546.900000\n",
      "5              Lake View    2420.966667\n",
      "6             Grant Park    2068.533333\n",
      "7          Museum Campus    1510.000000\n",
      "8             Gold Coast    1364.233333\n",
      "9     Sheffield & DePaul    1259.766667\n",
      "10          Lincoln Park    1246.533333\n",
      "11          East Village    1212.066667\n",
      "12     Little Italy, UIC     863.700000\n",
      "13                Uptown     849.666667\n",
      "14       Near South Side     839.833333\n",
      "15        Garfield Ridge     745.400000\n",
      "Datos sin outliers en df_2:\n",
      "   dropoff_location_name  average_trips\n",
      "16          Logan Square     620.333333\n",
      "17             Edgewater     583.300000\n",
      "18             West Town     516.400000\n",
      "19              Old Town     469.566667\n",
      "20       Rush & Division     395.533333\n",
      "..                   ...            ...\n",
      "89       Mount Greenwood       3.137931\n",
      "90             Hegewisch       3.117647\n",
      "91              Burnside       2.333333\n",
      "92             East Side       1.961538\n",
      "93             Riverdale       1.800000\n",
      "\n",
      "[78 rows x 2 columns]\n",
      "Outliers en df_3:\n",
      "               start_ts weather_conditions  duration_seconds  day_of_week\n",
      "79  2017-11-11 15:00:00               Good            4800.0            5\n",
      "276 2017-11-18 12:00:00                Bad            4980.0            5\n",
      "354 2017-11-25 11:00:00               Good            7440.0            5\n",
      "583 2017-11-11 16:00:00               Good            4980.0            5\n",
      "619 2017-11-25 14:00:00               Good            6420.0            5\n",
      "646 2017-11-11 13:00:00               Good            4380.0            5\n",
      "Datos sin outliers en df_3:\n",
      "                start_ts weather_conditions  duration_seconds  day_of_week\n",
      "0    2017-11-25 16:00:00               Good            2410.0            5\n",
      "1    2017-11-25 14:00:00               Good            1920.0            5\n",
      "2    2017-11-25 12:00:00               Good            1543.0            5\n",
      "3    2017-11-04 10:00:00               Good            2512.0            5\n",
      "4    2017-11-11 07:00:00               Good            1440.0            5\n",
      "...                  ...                ...               ...          ...\n",
      "1063 2017-11-25 11:00:00               Good               0.0            5\n",
      "1064 2017-11-11 10:00:00               Good            1318.0            5\n",
      "1065 2017-11-11 13:00:00               Good            2100.0            5\n",
      "1066 2017-11-11 08:00:00               Good            1380.0            5\n",
      "1067 2017-11-04 16:00:00                Bad            2834.0            5\n",
      "\n",
      "[1062 rows x 4 columns]\n"
     ]
    }
   ],
   "source": [
    "# Función para eliminar outliers\n",
    "def remove_outliers(df, column):\n",
    "    Q1 = df[column].quantile(0.25)\n",
    "    Q3 = df[column].quantile(0.75)\n",
    "    IQR = Q3 - Q1\n",
    "\n",
    "    lower_bound = Q1 - 1.5 * IQR\n",
    "    upper_bound = Q3 + 1.5 * IQR\n",
    "\n",
    "    outliers = df[(df[column] < lower_bound) | (df[column] > upper_bound)]\n",
    "    cleaned_df = df[(df[column] >= lower_bound) & (df[column] <= upper_bound)]\n",
    "\n",
    "    return cleaned_df, outliers\n",
    "\n",
    "# Paso 1: Visualización de los Datos\n",
    "plt.figure(figsize=(8, 4))\n",
    "sns.boxplot(x=df_1['trips_amount'])\n",
    "plt.title('Diagrama de caja de trips_amount en df_1')\n",
    "plt.xlabel('Cantidad de viajes')\n",
    "plt.show()\n",
    "\n",
    "plt.figure(figsize=(8, 4))\n",
    "sns.boxplot(x=df_2['average_trips'])\n",
    "plt.title('Diagrama de caja de average_trips en df_2')\n",
    "plt.xlabel('Viajes promedio')\n",
    "plt.show()\n",
    "\n",
    "plt.figure(figsize=(8, 4))\n",
    "sns.boxplot(x=df_3['duration_seconds'])\n",
    "plt.title('Diagrama de caja de duration_seconds en df_3')\n",
    "plt.xlabel('Duración en segundos')\n",
    "plt.show()\n",
    "\n",
    "# Paso 2 y 3: Cálculo del IQR y Eliminación de Outliers\n",
    "df_1_cleaned, df_1_outliers = remove_outliers(df_1, 'trips_amount')\n",
    "df_2_cleaned, df_2_outliers = remove_outliers(df_2, 'average_trips')\n",
    "df_3_cleaned, df_3_outliers = remove_outliers(df_3, 'duration_seconds')\n",
    "\n",
    "# Imprimir resultados\n",
    "print(\"Outliers en df_1:\")\n",
    "print(df_1_outliers)\n",
    "print(\"Datos sin outliers en df_1:\")\n",
    "print(df_1_cleaned)\n",
    "\n",
    "print(\"Outliers en df_2:\")\n",
    "print(df_2_outliers)\n",
    "print(\"Datos sin outliers en df_2:\")\n",
    "print(df_2_cleaned)\n",
    "\n",
    "print(\"Outliers en df_3:\")\n",
    "print(df_3_outliers)\n",
    "print(\"Datos sin outliers en df_3:\")\n",
    "print(df_3_cleaned)"
   ]
  },
  {
   "cell_type": "markdown",
   "metadata": {},
   "source": [
    "<div class=\"alert alert-block alert-warning\">\n",
    "<b>Comentario de Reviewer v2</b> <a class=\"tocSkip\"></a>\n",
    "\n",
    "Muy bien al remover los outliers, sin embargo, lo que muestras después de removerlos no aporta mucho, ya que solo se ven algunas filas del dataframe completo. Idealmente deberías volver a mostrar los gráficos del inicio pero ahora sin los outliers. \n",
    "\n",
    "</div>"
   ]
  },
  {
   "cell_type": "code",
   "execution_count": 105,
   "metadata": {},
   "outputs": [
    {
     "name": "stdout",
     "output_type": "stream",
     "text": [
      "\n",
      "    La duración promedio en segundos de los viajes Loop / O'Hare los sábados con clima bueno es: 1999.68\n",
      "    La duración promedio en segundos de los viajes Loop / O'Hare los sábados con clima malo es: 2427.21\n",
      "    \n",
      "    p-valor: 6.517970327099473e-12\n",
      "\n",
      "Rechazamos la hipótesis nula\n"
     ]
    }
   ],
   "source": [
    "# Prueba de hipótesis\n",
    "\n",
    "alpha = 0.05\n",
    "\n",
    "# Realizar la prueba t de muestras independientes\n",
    "results = st.ttest_ind(loop_ohare_clima_bueno_sabado, loop_ohare_clima_malo_sabado) \n",
    "\n",
    "print(f\"\"\"\n",
    "    La duración promedio en segundos de los viajes Loop / O'Hare los sábados con clima bueno es: {loop_ohare_clima_bueno_sabado.mean().round(2)}\n",
    "    La duración promedio en segundos de los viajes Loop / O'Hare los sábados con clima malo es: {loop_ohare_clima_malo_sabado.mean().round(2)}\n",
    "    \n",
    "    p-valor: {results.pvalue}\n",
    "\"\"\")\n",
    "\n",
    "if results.pvalue < alpha:\n",
    "    print(\"Rechazamos la hipótesis nula\")\n",
    "else:\n",
    "    print(\"No podemos rechazar la hipótesis nula\")"
   ]
  },
  {
   "cell_type": "markdown",
   "metadata": {},
   "source": [
    "<div class=\"alert alert-block alert-info\">\n",
    "<b>Empecemos por  test de levene y hacemos una igualdad de varianzas para decidir.</b> <a class=\"tocSkip\"></a>\n",
    "</div>"
   ]
  },
  {
   "cell_type": "code",
   "execution_count": 107,
   "metadata": {},
   "outputs": [
    {
     "name": "stdout",
     "output_type": "stream",
     "text": [
      "\n",
      "    La duración promedio en segundos de los viajes Loop / O'Hare los sábados con clima bueno es: 1999.68\n",
      "    La duración promedio en segundos de los viajes Loop / O'Hare los sábados con clima malo es: 2427.21\n",
      "    \n",
      "    p-valor del test de Levene: 0.5332038671974493\n",
      "    Varianzas iguales asumidas: True\n",
      "    p-valor del test t: 6.517970327099473e-12\n",
      "\n",
      "Rechazamos la hipótesis nula\n"
     ]
    }
   ],
   "source": [
    "# Test de Levene para igualdad de varianzas\n",
    "levene_stat, levene_pvalue = st.levene(loop_ohare_clima_bueno_sabado, loop_ohare_clima_malo_sabado)\n",
    "\n",
    "# Decidir si asumimos varianzas iguales o no basándonos en el p-valor del test de Levene\n",
    "equal_var = levene_pvalue > alpha\n",
    "\n",
    "# Realizar la prueba t de muestras independientes\n",
    "results = st.ttest_ind(loop_ohare_clima_bueno_sabado, loop_ohare_clima_malo_sabado, equal_var=equal_var)\n",
    "\n",
    "# Imprimir resultados\n",
    "print(f\"\"\"\n",
    "    La duración promedio en segundos de los viajes Loop / O'Hare los sábados con clima bueno es: {loop_ohare_clima_bueno_sabado.mean().round(2)}\n",
    "    La duración promedio en segundos de los viajes Loop / O'Hare los sábados con clima malo es: {loop_ohare_clima_malo_sabado.mean().round(2)}\n",
    "    \n",
    "    p-valor del test de Levene: {levene_pvalue}\n",
    "    Varianzas iguales asumidas: {equal_var}\n",
    "    p-valor del test t: {results.pvalue}\n",
    "\"\"\")\n",
    "\n",
    "if results.pvalue < alpha:\n",
    "    print(\"Rechazamos la hipótesis nula\")\n",
    "else:\n",
    "    print(\"No podemos rechazar la hipótesis nula\")"
   ]
  },
  {
   "cell_type": "code",
   "execution_count": null,
   "metadata": {},
   "outputs": [],
   "source": []
  },
  {
   "cell_type": "markdown",
   "metadata": {},
   "source": [
    "Los resultados de la prueba de hipótesis arrojaron que debemos rechazar la hipótesis nula, es decir, la duración promedio de los viajes desde Loop y el Aeropuerto internacional O'Hare los sábados no es igual en cualquier condición climática. \n",
    "\n",
    "Los datos parecen indicar que la duración de los viajes sí se ve alterada dependiendo de las condiciones climáticas. "
   ]
  },
  {
   "cell_type": "markdown",
   "metadata": {},
   "source": [
    "## Conclusiones finales"
   ]
  },
  {
   "cell_type": "markdown",
   "metadata": {},
   "source": [
    "### Recopilación de las conclusiones a lo largo del análisis: \n",
    "\n",
    "- Los dos principales destinos superan por más de dos mil viajes al resto de los destinos, estos son Loop y River North. \n",
    "\n",
    "- El top 10 de destinos para terminar los viajes son: \n",
    "    1. Loop\n",
    "    2. River North\n",
    "    3. Streeterville\n",
    "    4. West Loop\n",
    "    5. O'Hare\n",
    "    6. Lake View\n",
    "    7. Grant Park\n",
    "    8. Museum Campus\n",
    "    9. Gold Coast\n",
    "    10. Sheffield & DePaul\n",
    "    \n",
    " \n",
    " \n",
    "- La gráfica de las 10 compañías con más viajes evidencia claramente como Flash Cab es la compañía con utilizada, superando al segundo lugar, Taxi Affiliation Services, con más de 8000 viajes. \n",
    "\n",
    "- Las 10 plataformas de viajes más usadas en Chicago son: \n",
    "    1. Flash Cab\n",
    "    2. Taxi Affiliation Services\n",
    "    3. Medallion Leasin\n",
    "    4. Yellow Cab\n",
    "    5. Taxi Affiliation Service Yellow\n",
    "    6. Chicago Carriage Cab Corp\n",
    "    7. City Service\n",
    "    8. Sun Taxi\n",
    "    9. Star North Management LLC\n",
    "    10. Blue Ribbon Taxi Association Inc.\n",
    "    \n",
    "\n",
    "\n",
    "- Tras una prueba de hipótesis donde se evaluó si las condiciones climáticas podían afectar la duración de los viajes desde Loop hasta el Aeropuerto Internaciona O'Hare de Chicago determinó que: \n",
    "    - La duración promedio de los viajes desde Loop y el Aeropuerto internacional O'Hare los sábados no es igual en cualquier condición climática. \n",
    "\n",
    "    - Los datos parecen indicar que la duración de los viajes sí se ve alterada dependiendo de las condiciones climáticas. \n",
    "    \n",
    "### Conclusiones finales\n",
    "\n",
    "Para llevar acabo la inmersión de Zuber en Chicago, como nuevo servicio de viajes compartidos, se recomienda lo siguiente: \n",
    "\n",
    "- Cubrir las zonas más demandadas y quizá hacer descuentos, generando tarifas competitivas que lleven al usuario hasta las zonas más comúnmente usadas como destino final en la ciudad. \n",
    "\n",
    "- Dar una mayor cobertura en momentos donde el clima es lluvioso, si bien los datos no son determinantes, podemos ver una variación en el comportamiento de los usuarios durante estos eventos climáticos, en importante cubrir las necedidades de los pasajeros para que estos prefieran Zuber sobre cualquier otro servicio que ya lleva años en el mercado. "
   ]
  },
  {
   "cell_type": "code",
   "execution_count": null,
   "metadata": {},
   "outputs": [],
   "source": []
  }
 ],
 "metadata": {
  "ExecuteTimeLog": [
   {
    "duration": 5500,
    "start_time": "2024-06-18T02:07:42.775Z"
   },
   {
    "duration": 1346,
    "start_time": "2024-06-18T02:07:48.279Z"
   },
   {
    "duration": 1359,
    "start_time": "2024-06-18T02:11:27.968Z"
   },
   {
    "duration": 793,
    "start_time": "2024-06-18T02:12:07.534Z"
   },
   {
    "duration": 800,
    "start_time": "2024-06-18T02:12:14.160Z"
   },
   {
    "duration": 15,
    "start_time": "2024-06-18T02:14:23.825Z"
   },
   {
    "duration": 13,
    "start_time": "2024-06-18T02:14:43.002Z"
   },
   {
    "duration": 7,
    "start_time": "2024-06-18T02:15:00.657Z"
   },
   {
    "duration": 6,
    "start_time": "2024-06-18T02:15:18.318Z"
   },
   {
    "duration": 18,
    "start_time": "2024-06-18T02:15:48.232Z"
   },
   {
    "duration": 13,
    "start_time": "2024-06-18T02:16:05.097Z"
   },
   {
    "duration": 12,
    "start_time": "2024-06-18T02:16:27.610Z"
   },
   {
    "duration": 10,
    "start_time": "2024-06-18T02:17:00.100Z"
   },
   {
    "duration": 5,
    "start_time": "2024-06-18T02:17:13.479Z"
   },
   {
    "duration": 15,
    "start_time": "2024-06-18T02:17:22.624Z"
   },
   {
    "duration": 3,
    "start_time": "2024-06-18T02:18:05.948Z"
   },
   {
    "duration": 11,
    "start_time": "2024-06-18T02:18:34.143Z"
   },
   {
    "duration": 11,
    "start_time": "2024-06-18T02:18:50.850Z"
   },
   {
    "duration": 690,
    "start_time": "2024-06-18T02:20:01.920Z"
   },
   {
    "duration": 1189,
    "start_time": "2024-06-18T02:21:41.288Z"
   },
   {
    "duration": 580,
    "start_time": "2024-06-18T02:22:10.753Z"
   },
   {
    "duration": 12,
    "start_time": "2024-06-18T02:23:25.673Z"
   },
   {
    "duration": 694,
    "start_time": "2024-06-18T02:24:25.464Z"
   },
   {
    "duration": 16,
    "start_time": "2024-06-18T02:25:46.269Z"
   },
   {
    "duration": 17,
    "start_time": "2024-06-18T02:26:01.502Z"
   },
   {
    "duration": 12,
    "start_time": "2024-06-18T02:26:14.238Z"
   },
   {
    "duration": 17,
    "start_time": "2024-06-18T02:26:50.221Z"
   },
   {
    "duration": 16,
    "start_time": "2024-06-18T02:27:04.567Z"
   },
   {
    "duration": 17,
    "start_time": "2024-06-18T02:27:24.104Z"
   },
   {
    "duration": 7,
    "start_time": "2024-06-18T02:28:36.127Z"
   },
   {
    "duration": 18,
    "start_time": "2024-06-18T02:28:43.294Z"
   },
   {
    "duration": 8,
    "start_time": "2024-06-18T02:29:10.046Z"
   },
   {
    "duration": 1352,
    "start_time": "2024-06-18T02:33:27.626Z"
   },
   {
    "duration": 850,
    "start_time": "2024-06-18T02:33:28.982Z"
   },
   {
    "duration": 17,
    "start_time": "2024-06-18T02:33:29.836Z"
   },
   {
    "duration": 17,
    "start_time": "2024-06-18T02:33:29.860Z"
   },
   {
    "duration": 7,
    "start_time": "2024-06-18T02:33:29.881Z"
   },
   {
    "duration": 17,
    "start_time": "2024-06-18T02:33:29.932Z"
   },
   {
    "duration": 15,
    "start_time": "2024-06-18T02:33:29.952Z"
   },
   {
    "duration": 10,
    "start_time": "2024-06-18T02:33:29.971Z"
   },
   {
    "duration": 48,
    "start_time": "2024-06-18T02:33:29.984Z"
   },
   {
    "duration": 14,
    "start_time": "2024-06-18T02:33:30.038Z"
   },
   {
    "duration": 12,
    "start_time": "2024-06-18T02:33:30.055Z"
   },
   {
    "duration": 620,
    "start_time": "2024-06-18T02:33:30.070Z"
   },
   {
    "duration": 12,
    "start_time": "2024-06-18T02:33:30.693Z"
   },
   {
    "duration": 656,
    "start_time": "2024-06-18T02:33:30.708Z"
   },
   {
    "duration": 16,
    "start_time": "2024-06-18T02:33:31.369Z"
   },
   {
    "duration": 47,
    "start_time": "2024-06-18T02:33:31.390Z"
   },
   {
    "duration": 13,
    "start_time": "2024-06-18T02:33:31.441Z"
   },
   {
    "duration": 19,
    "start_time": "2024-06-18T02:33:31.458Z"
   },
   {
    "duration": 55,
    "start_time": "2024-06-18T02:33:31.480Z"
   },
   {
    "duration": 14,
    "start_time": "2024-06-18T02:33:31.538Z"
   },
   {
    "duration": 99,
    "start_time": "2024-06-18T02:33:31.555Z"
   },
   {
    "duration": 8,
    "start_time": "2024-06-18T02:33:31.657Z"
   },
   {
    "duration": 3,
    "start_time": "2024-06-18T02:35:29.323Z"
   },
   {
    "duration": 14,
    "start_time": "2024-06-18T02:38:14.191Z"
   },
   {
    "duration": 9,
    "start_time": "2024-06-18T02:38:15.396Z"
   },
   {
    "duration": 5,
    "start_time": "2024-06-18T02:38:17.508Z"
   },
   {
    "duration": 15,
    "start_time": "2024-06-18T02:38:19.962Z"
   },
   {
    "duration": 12,
    "start_time": "2024-06-18T02:38:20.711Z"
   },
   {
    "duration": 11,
    "start_time": "2024-06-18T02:38:21.534Z"
   },
   {
    "duration": 5,
    "start_time": "2024-06-18T02:38:22.306Z"
   },
   {
    "duration": 17,
    "start_time": "2024-06-18T02:38:23.230Z"
   },
   {
    "duration": 6,
    "start_time": "2024-06-18T02:39:32.215Z"
   },
   {
    "duration": 821,
    "start_time": "2024-06-18T02:39:32.736Z"
   },
   {
    "duration": 14,
    "start_time": "2024-06-18T02:39:36.004Z"
   },
   {
    "duration": 11,
    "start_time": "2024-06-18T02:39:36.435Z"
   },
   {
    "duration": 7,
    "start_time": "2024-06-18T02:39:37.960Z"
   },
   {
    "duration": 16,
    "start_time": "2024-06-18T02:39:39.385Z"
   },
   {
    "duration": 16,
    "start_time": "2024-06-18T02:39:40.058Z"
   },
   {
    "duration": 13,
    "start_time": "2024-06-18T02:39:41.358Z"
   },
   {
    "duration": 7,
    "start_time": "2024-06-18T02:39:42.441Z"
   },
   {
    "duration": 19,
    "start_time": "2024-06-18T02:39:43.260Z"
   },
   {
    "duration": 12,
    "start_time": "2024-06-18T02:40:04.164Z"
   },
   {
    "duration": 561,
    "start_time": "2024-06-18T02:40:22.666Z"
   },
   {
    "duration": 11,
    "start_time": "2024-06-18T02:40:24.628Z"
   },
   {
    "duration": 680,
    "start_time": "2024-06-18T02:40:25.285Z"
   },
   {
    "duration": 18,
    "start_time": "2024-06-18T02:40:31.000Z"
   },
   {
    "duration": 17,
    "start_time": "2024-06-18T02:40:31.748Z"
   },
   {
    "duration": 10,
    "start_time": "2024-06-18T02:40:32.561Z"
   },
   {
    "duration": 17,
    "start_time": "2024-06-18T02:40:33.987Z"
   },
   {
    "duration": 15,
    "start_time": "2024-06-18T02:40:34.694Z"
   },
   {
    "duration": 10,
    "start_time": "2024-06-18T02:40:35.626Z"
   },
   {
    "duration": 9,
    "start_time": "2024-06-18T02:40:37.976Z"
   },
   {
    "duration": 7,
    "start_time": "2024-06-18T02:40:38.510Z"
   },
   {
    "duration": 4,
    "start_time": "2024-06-18T02:47:05.859Z"
   },
   {
    "duration": 15,
    "start_time": "2024-06-18T02:52:13.101Z"
   },
   {
    "duration": 16,
    "start_time": "2024-06-18T02:52:19.825Z"
   },
   {
    "duration": 20,
    "start_time": "2024-06-18T02:52:30.172Z"
   },
   {
    "duration": 14,
    "start_time": "2024-06-22T00:49:55.437Z"
   },
   {
    "duration": 4920,
    "start_time": "2024-06-22T00:50:08.119Z"
   },
   {
    "duration": 872,
    "start_time": "2024-06-22T00:50:13.045Z"
   },
   {
    "duration": 16,
    "start_time": "2024-06-22T00:50:13.920Z"
   },
   {
    "duration": 13,
    "start_time": "2024-06-22T00:50:13.940Z"
   },
   {
    "duration": 6,
    "start_time": "2024-06-22T00:50:13.956Z"
   },
   {
    "duration": 43,
    "start_time": "2024-06-22T00:50:13.965Z"
   },
   {
    "duration": 14,
    "start_time": "2024-06-22T00:50:14.011Z"
   },
   {
    "duration": 10,
    "start_time": "2024-06-22T00:50:14.028Z"
   },
   {
    "duration": 6,
    "start_time": "2024-06-22T00:50:14.040Z"
   },
   {
    "duration": 64,
    "start_time": "2024-06-22T00:50:14.052Z"
   },
   {
    "duration": 14,
    "start_time": "2024-06-22T00:50:14.120Z"
   },
   {
    "duration": 642,
    "start_time": "2024-06-22T00:50:14.137Z"
   },
   {
    "duration": 10,
    "start_time": "2024-06-22T00:50:14.782Z"
   },
   {
    "duration": 654,
    "start_time": "2024-06-22T00:50:14.795Z"
   },
   {
    "duration": 15,
    "start_time": "2024-06-22T00:50:15.453Z"
   },
   {
    "duration": 39,
    "start_time": "2024-06-22T00:50:15.471Z"
   },
   {
    "duration": 13,
    "start_time": "2024-06-22T00:50:15.513Z"
   },
   {
    "duration": 18,
    "start_time": "2024-06-22T00:50:15.530Z"
   },
   {
    "duration": 57,
    "start_time": "2024-06-22T00:50:15.551Z"
   },
   {
    "duration": 15,
    "start_time": "2024-06-22T00:50:15.611Z"
   },
   {
    "duration": 11,
    "start_time": "2024-06-22T00:50:15.629Z"
   },
   {
    "duration": 6,
    "start_time": "2024-06-22T00:50:15.642Z"
   },
   {
    "duration": 0,
    "start_time": "2024-06-22T00:50:15.651Z"
   },
   {
    "duration": 5,
    "start_time": "2024-06-22T00:50:17.237Z"
   },
   {
    "duration": 850,
    "start_time": "2024-06-22T00:50:17.246Z"
   },
   {
    "duration": 14,
    "start_time": "2024-06-22T00:50:18.098Z"
   },
   {
    "duration": 9,
    "start_time": "2024-06-22T00:50:18.117Z"
   },
   {
    "duration": 5,
    "start_time": "2024-06-22T00:50:18.130Z"
   },
   {
    "duration": 15,
    "start_time": "2024-06-22T00:50:18.139Z"
   },
   {
    "duration": 59,
    "start_time": "2024-06-22T00:50:18.156Z"
   },
   {
    "duration": 11,
    "start_time": "2024-06-22T00:50:18.219Z"
   },
   {
    "duration": 7,
    "start_time": "2024-06-22T00:50:18.238Z"
   },
   {
    "duration": 14,
    "start_time": "2024-06-22T00:50:18.249Z"
   },
   {
    "duration": 14,
    "start_time": "2024-06-22T00:50:18.307Z"
   },
   {
    "duration": 589,
    "start_time": "2024-06-22T00:50:18.324Z"
   },
   {
    "duration": 13,
    "start_time": "2024-06-22T00:50:18.916Z"
   },
   {
    "duration": 637,
    "start_time": "2024-06-22T00:50:18.932Z"
   },
   {
    "duration": 16,
    "start_time": "2024-06-22T00:50:19.573Z"
   },
   {
    "duration": 15,
    "start_time": "2024-06-22T00:50:19.606Z"
   },
   {
    "duration": 11,
    "start_time": "2024-06-22T00:50:19.624Z"
   },
   {
    "duration": 16,
    "start_time": "2024-06-22T00:50:19.638Z"
   },
   {
    "duration": 56,
    "start_time": "2024-06-22T00:50:19.657Z"
   },
   {
    "duration": 11,
    "start_time": "2024-06-22T00:50:19.716Z"
   },
   {
    "duration": 11,
    "start_time": "2024-06-22T00:50:19.729Z"
   },
   {
    "duration": 5,
    "start_time": "2024-06-22T00:50:19.744Z"
   },
   {
    "duration": 0,
    "start_time": "2024-06-22T00:50:19.753Z"
   },
   {
    "duration": 4,
    "start_time": "2024-06-22T00:50:37.513Z"
   },
   {
    "duration": 777,
    "start_time": "2024-06-22T00:50:37.787Z"
   },
   {
    "duration": 14,
    "start_time": "2024-06-22T00:50:38.568Z"
   },
   {
    "duration": 9,
    "start_time": "2024-06-22T00:50:38.585Z"
   },
   {
    "duration": 5,
    "start_time": "2024-06-22T00:50:38.598Z"
   },
   {
    "duration": 17,
    "start_time": "2024-06-22T00:50:38.921Z"
   },
   {
    "duration": 16,
    "start_time": "2024-06-22T00:50:39.278Z"
   },
   {
    "duration": 12,
    "start_time": "2024-06-22T00:50:39.458Z"
   },
   {
    "duration": 6,
    "start_time": "2024-06-22T00:50:39.620Z"
   },
   {
    "duration": 15,
    "start_time": "2024-06-22T00:50:39.792Z"
   },
   {
    "duration": 11,
    "start_time": "2024-06-22T00:50:40.469Z"
   },
   {
    "duration": 542,
    "start_time": "2024-06-22T00:50:40.639Z"
   },
   {
    "duration": 10,
    "start_time": "2024-06-22T00:50:41.306Z"
   },
   {
    "duration": 631,
    "start_time": "2024-06-22T00:50:41.475Z"
   },
   {
    "duration": 16,
    "start_time": "2024-06-22T00:50:42.167Z"
   },
   {
    "duration": 15,
    "start_time": "2024-06-22T00:50:42.332Z"
   },
   {
    "duration": 10,
    "start_time": "2024-06-22T00:50:42.505Z"
   },
   {
    "duration": 16,
    "start_time": "2024-06-22T00:50:42.893Z"
   },
   {
    "duration": 16,
    "start_time": "2024-06-22T00:50:43.051Z"
   },
   {
    "duration": 11,
    "start_time": "2024-06-22T00:50:43.218Z"
   },
   {
    "duration": 10,
    "start_time": "2024-06-22T00:50:43.920Z"
   },
   {
    "duration": 7,
    "start_time": "2024-06-22T00:50:44.273Z"
   },
   {
    "duration": 7,
    "start_time": "2024-06-22T00:50:44.992Z"
   },
   {
    "duration": 6,
    "start_time": "2024-06-22T00:51:16.494Z"
   },
   {
    "duration": 508,
    "start_time": "2024-06-22T00:57:12.812Z"
   },
   {
    "duration": 30,
    "start_time": "2024-06-22T00:58:56.512Z"
   },
   {
    "duration": 594,
    "start_time": "2024-06-22T00:59:35.117Z"
   },
   {
    "duration": 11,
    "start_time": "2024-06-22T00:59:36.594Z"
   },
   {
    "duration": 624,
    "start_time": "2024-06-22T00:59:37.112Z"
   },
   {
    "duration": 15,
    "start_time": "2024-06-22T00:59:39.140Z"
   },
   {
    "duration": 20,
    "start_time": "2024-06-22T00:59:39.943Z"
   },
   {
    "duration": 12,
    "start_time": "2024-06-22T00:59:40.677Z"
   },
   {
    "duration": 18,
    "start_time": "2024-06-22T00:59:42.284Z"
   },
   {
    "duration": 14,
    "start_time": "2024-06-22T00:59:43.037Z"
   },
   {
    "duration": 15,
    "start_time": "2024-06-22T00:59:43.928Z"
   },
   {
    "duration": 11,
    "start_time": "2024-06-22T00:59:46.881Z"
   },
   {
    "duration": 8,
    "start_time": "2024-06-22T00:59:49.884Z"
   },
   {
    "duration": 36,
    "start_time": "2024-06-22T01:05:49.191Z"
   },
   {
    "duration": 5,
    "start_time": "2024-06-22T01:06:21.944Z"
   },
   {
    "duration": 845,
    "start_time": "2024-06-22T01:06:22.234Z"
   },
   {
    "duration": 16,
    "start_time": "2024-06-22T01:06:23.083Z"
   },
   {
    "duration": 10,
    "start_time": "2024-06-22T01:06:23.103Z"
   },
   {
    "duration": 6,
    "start_time": "2024-06-22T01:06:23.118Z"
   },
   {
    "duration": 17,
    "start_time": "2024-06-22T01:06:23.281Z"
   },
   {
    "duration": 17,
    "start_time": "2024-06-22T01:06:23.607Z"
   },
   {
    "duration": 10,
    "start_time": "2024-06-22T01:06:23.780Z"
   },
   {
    "duration": 6,
    "start_time": "2024-06-22T01:06:23.953Z"
   },
   {
    "duration": 17,
    "start_time": "2024-06-22T01:06:24.116Z"
   },
   {
    "duration": 14,
    "start_time": "2024-06-22T01:06:24.790Z"
   },
   {
    "duration": 623,
    "start_time": "2024-06-22T01:06:24.975Z"
   },
   {
    "duration": 13,
    "start_time": "2024-06-22T01:06:25.707Z"
   },
   {
    "duration": 792,
    "start_time": "2024-06-22T01:06:25.888Z"
   },
   {
    "duration": 32,
    "start_time": "2024-06-22T01:06:26.685Z"
   },
   {
    "duration": 21,
    "start_time": "2024-06-22T01:06:26.877Z"
   },
   {
    "duration": 14,
    "start_time": "2024-06-22T01:06:27.074Z"
   },
   {
    "duration": 29,
    "start_time": "2024-06-22T01:06:27.484Z"
   },
   {
    "duration": 15,
    "start_time": "2024-06-22T01:06:27.685Z"
   },
   {
    "duration": 13,
    "start_time": "2024-06-22T01:06:27.880Z"
   },
   {
    "duration": 14,
    "start_time": "2024-06-22T01:06:28.678Z"
   },
   {
    "duration": 45,
    "start_time": "2024-06-22T01:06:29.305Z"
   },
   {
    "duration": 9,
    "start_time": "2024-06-22T01:06:29.542Z"
   },
   {
    "duration": 762,
    "start_time": "2024-06-22T01:11:44.430Z"
   },
   {
    "duration": 10,
    "start_time": "2024-06-22T01:15:53.082Z"
   },
   {
    "duration": 820,
    "start_time": "2024-06-22T01:23:25.635Z"
   },
   {
    "duration": 716,
    "start_time": "2024-06-22T01:24:10.476Z"
   }
  ],
  "kernelspec": {
   "display_name": "Python 3 (ipykernel)",
   "language": "python",
   "name": "python3"
  },
  "language_info": {
   "codemirror_mode": {
    "name": "ipython",
    "version": 3
   },
   "file_extension": ".py",
   "mimetype": "text/x-python",
   "name": "python",
   "nbconvert_exporter": "python",
   "pygments_lexer": "ipython3",
   "version": "3.9.19"
  },
  "toc": {
   "base_numbering": 1,
   "nav_menu": {},
   "number_sections": true,
   "sideBar": true,
   "skip_h1_title": true,
   "title_cell": "Table of Contents",
   "title_sidebar": "Contents",
   "toc_cell": false,
   "toc_position": {},
   "toc_section_display": true,
   "toc_window_display": false
  }
 },
 "nbformat": 4,
 "nbformat_minor": 2
}
